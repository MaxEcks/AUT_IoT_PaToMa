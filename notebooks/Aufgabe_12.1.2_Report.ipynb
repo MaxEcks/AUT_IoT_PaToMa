{
 "cells": [
  {
   "cell_type": "markdown",
   "id": "947bb8a7",
   "metadata": {},
   "source": [
    "## Aufgabe 12.1.2 – MQTT-Client, Datenbank und Dashboard\n",
    "\n",
    "In dieser Aufgabe wurde ein vollständiger MQTT-Datenfluss von der Speicherung der Daten bis zur Visualisierung umgesetzt.  \n",
    "Daten werden über ein MQTT-Protokoll empfangen, in einer TinyDB Datenbank gespeichert, aufbereitet und schließlich über ein interaktives Dashboard dargestellt."
   ]
  },
  {
   "cell_type": "markdown",
   "id": "f280aa34",
   "metadata": {},
   "source": [
    "## Systemübersicht\n",
    "\n",
    "Das System besteht aus folgenden Kernmodulen:\n",
    "\n",
    "- `mqtt_client.py`: Verbindet sich mit dem MQTT-Broker und speichert empfangene Nachrichten in TinyDB. \\\n",
    "Zur Konfiguration des Clients wird die Datei `config.yaml` verwendet, die die Verbindungsdetails zum MQTT-Broker enthält.\n",
    "- `database.py`: Stellt über ein Singleton-Muster Zugriff auf die Datenbank bereit (Referenz: MECH-B-3-SWD-SWD-ILV).\n",
    "- `transform.py`: Extrahiert Flaschen-bezogene Daten (Füllstand, Vibration, Drop-Oszillation, Klassifikation) und bereitet sie als DataFrame auf.\n",
    "- `dashboard.py`: Zeigt interaktiv den Schwingungsverlauf ausgewählter Flaschen an und hebt den Klassifikationsstatus (\"is_cracked\") hervor."
   ]
  },
  {
   "cell_type": "markdown",
   "id": "ad2f7e22",
   "metadata": {},
   "source": [
    "## Datenfluss & Formatierung\n",
    "\n",
    "Die eingehenden Rohdaten enthalten unter anderem:\n",
    "\n",
    "- `fill_level_grams` und `vibration-index` (jeweils für rot, grün, blau)\n",
    "- `final_weight` (Waage)\n",
    "- `drop_oscillation` (Zeitreihe bei Vereinzelung der Flasche)\n",
    "- `is_cracked` (Label aus Ground Truth)\n",
    "\n",
    "Im Modul `transform.py` werden alle Flaschen mit gültiger Flaschen-ID (\"bottle\") extrahiert, bereinigt und pro Flasche im Tidy-Format aggregiert. \\\n",
    "Die Mindestanzahl von 50 Oszillationswerten wird erst im Modul `dashboard.py` berücksichtigt, um in der Visualisierung nur vollständige Zeitreihen darzustellen."
   ]
  },
  {
   "cell_type": "markdown",
   "id": "b7b79cf6",
   "metadata": {},
   "source": [
    "## Beispielhafte Visualisierung\n",
    "\n",
    "Die `drop_oscillation` wird über ein interaktives Dashboard mit Dash dargestellt. \\\n",
    "Es folgt ein Plot einer beliebigen Zeitreihe, für die die Daten gespeichert und aufbereitet wurden (Plot aus `dashboard.py`):\n",
    "\n",
    "![Schwingungsverlauf](../images/Plot_Schwingungsverlauf.png)"
   ]
  },
  {
   "cell_type": "markdown",
   "id": "ddcd7b3a",
   "metadata": {},
   "source": [
    "## Fazit\n",
    "\n",
    "Die entwickelte Datenverarbeitungskette – vom Empfang der MQTT-Nachrichten bis zur strukturierten Visualisierung – funktioniert zuverlässig und modular.  \n",
    "Alle relevanten Flaschendaten werden gespeichert, bereinigt und im Tidy-Format für Analysen bereitgestellt.  \n",
    "Das interaktive Dashboard ermöglicht eine gezielte Untersuchung des Schwingungsverlaufs einzelner Flaschen und liefert eine erste visuelle Einschätzung möglicher Defekte.\n",
    "\n",
    "Die implementierte Lösung bildet eine robuste Grundlage für weiterführende Aufgaben wie z.B. die Klassifikation defekter Flaschen auf Basis der Drop-Oszillationsdaten."
   ]
  },
  {
   "cell_type": "markdown",
   "id": "a276aa26",
   "metadata": {},
   "source": [
    "## Erweiterung: Temperaturdaten-Zuordnung über Zeitstempel\n",
    "\n",
    "Im Rahmen der Regressionsaufgabe wurde erkannt, dass zusätzlich zu Füllstand, Vibration und Drop-Oszillation auch die Temperaturdaten aus dem Topic `temperature` berücksichtigt werden sollten.  \n",
    "Da diese Einträge keine Flaschen-ID enthalten, war eine zeitbasierte Zuordnung zu den Flaschen erforderlich.\n",
    "\n",
    "Bei der Analyse der gespeicherten Daten (`database.json`) zeigte sich:\n",
    "- Das Topic `dispenser_green` enthält 240 Flaschen mit Zeitstempel.\n",
    "- Das Topic `temperature` enthält 720 Messwerte (3 pro Flasche).\n",
    "- Die Zeitstempel von `temperature` und `dispenser_green` stimmen exakt überein (Verhältnis 3:1).\n",
    "\n",
    "Daher wurde in `transform.py` eine Zeitstempel-basierte Zuordnung implementiert:  \n",
    "Jeweils drei gleichzeitig mit dem `dispenser_green`-Eintrag aufgezeichnete Temperaturwerte (je einer pro Farbe: rot, grün, blau) wurden der entsprechenden Flasche zugewiesen.\n",
    "\n",
    "Die resultierenden Features:\n",
    "- `temperature_red`\n",
    "- `temperature_green`\n",
    "- `temperature_blue`\n",
    "\n",
    "werden nun gemeinsam mit den übrigen Flaschendaten im aggregierten DataFrame ausgegeben und stehen für weitere Analysen oder Regressionsmodelle zur Verfügung."
   ]
  }
 ],
 "metadata": {
  "kernelspec": {
   "display_name": ".venv",
   "language": "python",
   "name": "python3"
  },
  "language_info": {
   "codemirror_mode": {
    "name": "ipython",
    "version": 3
   },
   "file_extension": ".py",
   "mimetype": "text/x-python",
   "name": "python",
   "nbconvert_exporter": "python",
   "pygments_lexer": "ipython3",
   "version": "3.12.7"
  }
 },
 "nbformat": 4,
 "nbformat_minor": 5
}
